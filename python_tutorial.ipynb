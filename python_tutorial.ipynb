{
  "cells": [
    {
      "cell_type": "markdown",
      "id": "6f9ce894-1c71-41fa-be82-e6f89ab8d19e",
      "metadata": {
        "id": "6f9ce894-1c71-41fa-be82-e6f89ab8d19e"
      },
      "source": [
        "# Python Tutorial (By PeakPrep)\n",
        "\n",
        "This is a python tutorial by PeakPrep team that brings together interactive code blocks that can be run directly from this notebook.\n",
        "\n",
        "## This notebook is to be used only by PeakPrep Students.\n",
        "\n",
        "---"
      ]
    },
    {
      "cell_type": "markdown",
      "id": "dbbd1ae0-4557-4259-a7d0-c38f0d9dbaf3",
      "metadata": {
        "id": "dbbd1ae0-4557-4259-a7d0-c38f0d9dbaf3"
      },
      "source": [
        "## Introduction to Python\n",
        "\n",
        "### What is Python?\n",
        "Python is a **high-level, interpreted programming language** known for its simplicity, readability, and versatility.  \n",
        "It supports multiple programming paradigms, including:\n",
        "- **Procedural Programming** – writing step-by-step instructions\n",
        "- **Object-Oriented Programming (OOP)** – organizing code into reusable objects\n",
        "- **Functional Programming** – treating functions as first-class citizens\n",
        "\n",
        "Python’s syntax is designed to be clear and human-readable, making it a popular choice for beginners and professionals alike.\n",
        "\n",
        "---\n",
        "\n",
        "### Why Learn Python?\n",
        "Python has become one of the most widely used programming languages in the world. Here are some key reasons to learn it:\n",
        "\n",
        "1. **Beginner-Friendly**  \n",
        "   Python’s clean and simple syntax makes it easier to learn compared to many other languages.\n",
        "\n",
        "2. **Versatility**  \n",
        "   You can use Python for:\n",
        "   - Web Development (Django, Flask)\n",
        "   - Data Science & Machine Learning (Pandas, NumPy, TensorFlow)\n",
        "   - Automation & Scripting\n",
        "   - Game Development (Pygame)\n",
        "   - Internet of Things (IoT)\n",
        "   - Cybersecurity\n",
        "\n",
        "3. **Large Community Support**  \n",
        "   With millions of developers worldwide, Python has a huge collection of tutorials, libraries, and forums to help you.\n",
        "\n",
        "4. **High Demand in the Job Market**  \n",
        "   Many tech companies and startups use Python, making it valuable for your career.\n",
        "\n",
        "---\n",
        "\n",
        "### History of Python\n",
        "Python was created by **Guido van Rossum** in the late 1980s at the **Centrum Wiskunde & Informatica (CWI)** in the Netherlands.  \n",
        "Its first public release, **Python 0.9.0**, came out in **February 1991**.\n",
        "\n",
        "Key historical milestones:\n",
        "- **1991** – Python 0.9.0 released, including functions, exception handling, and core data types.\n",
        "- **2000** – Python 2.0 released with list comprehensions and garbage collection.\n",
        "- **2008** – Python 3.0 introduced, designed to fix design flaws and improve the language’s consistency.\n",
        "- **2020** – Python 2 officially reached End of Life (EOL), with Python 3 as the standard.\n",
        "- **Today** – Python is among the top programming languages worldwide, widely used in AI, web development, and scientific computing.\n",
        "\n",
        "---\n",
        "\n",
        "### Conclusion\n",
        "Python’s simplicity, versatility, and powerful community make it an excellent choice for both beginners and experts.  \n",
        "Whether you want to build a website, analyze data, create AI models, or automate tasks, Python gives you the tools to bring your ideas to life.\n",
        "\n",
        "---"
      ]
    },
    {
      "cell_type": "markdown",
      "id": "7e5e5be5-f471-4fca-ad85-8447a838f3b6",
      "metadata": {
        "id": "7e5e5be5-f471-4fca-ad85-8447a838f3b6"
      },
      "source": [
        "## 1. Writing Your First Python Program\n",
        "The classic first program is printing text on the screen:"
      ]
    },
    {
      "cell_type": "code",
      "execution_count": null,
      "id": "8d0d5b0f-c993-4dc6-bcaa-a25aa52ba347",
      "metadata": {
        "id": "8d0d5b0f-c993-4dc6-bcaa-a25aa52ba347"
      },
      "outputs": [],
      "source": [
        "#<------------- Click here to run this code block.\n",
        "print(\"Hello World!\")\n",
        "#      ^^^^^^^^^^^^ You can change this to any text you want and it would result that text in the output.\n",
        "#                   Just keep the text in the quotes and the bracket."
      ]
    },
    {
      "cell_type": "markdown",
      "id": "e454fae3-c4f6-42c7-aa74-c0dde0d66855",
      "metadata": {
        "id": "e454fae3-c4f6-42c7-aa74-c0dde0d66855"
      },
      "source": [
        "### Code explanation:\n",
        "This code returns the text \"Hello World!\" in the output.\n",
        "\n",
        "---"
      ]
    }
  ],
  "metadata": {
    "kernelspec": {
      "display_name": "Python 3 (ipykernel)",
      "language": "python",
      "name": "python3"
    },
    "language_info": {
      "codemirror_mode": {
        "name": "ipython",
        "version": 3
      },
      "file_extension": ".py",
      "mimetype": "text/x-python",
      "name": "python",
      "nbconvert_exporter": "python",
      "pygments_lexer": "ipython3",
      "version": "3.12.10"
    },
    "colab": {
      "provenance": []
    }
  },
  "nbformat": 4,
  "nbformat_minor": 5
}